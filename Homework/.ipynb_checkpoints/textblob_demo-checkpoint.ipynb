{
 "cells": [
  {
   "cell_type": "code",
   "execution_count": 1,
   "id": "dba51e84",
   "metadata": {},
   "outputs": [],
   "source": [
    "# textblob library"
   ]
  },
  {
   "cell_type": "code",
   "execution_count": 31,
   "id": "33afb848",
   "metadata": {},
   "outputs": [],
   "source": [
    "from textblob import TextBlob\n",
    "import nltk\n",
    "import matplotlib.pyplot as plt"
   ]
  },
  {
   "cell_type": "code",
   "execution_count": 36,
   "id": "482187dc",
   "metadata": {},
   "outputs": [],
   "source": [
    "# Create some text\n",
    "text = \"The weather is wonderful today. I love the smell of fresh air in the morning.\"\n",
    "text2 = \"The weather is ass today. Why does it have to be raining all day long?\""
   ]
  },
  {
   "cell_type": "code",
   "execution_count": 37,
   "id": "3a4e5c43",
   "metadata": {},
   "outputs": [],
   "source": [
    "# Create a text blob object\n",
    "blob = TextBlob(text)\n",
    "blob2 = TextBlob(text2)"
   ]
  },
  {
   "cell_type": "code",
   "execution_count": 39,
   "id": "4bc1a8c9",
   "metadata": {},
   "outputs": [
    {
     "name": "stdout",
     "output_type": "stream",
     "text": [
      "Sentiment(polarity=0.6, subjectivity=0.7000000000000001)\n"
     ]
    }
   ],
   "source": [
    "print(blob.sentiment)"
   ]
  },
  {
   "cell_type": "code",
   "execution_count": 38,
   "id": "1222d1b8",
   "metadata": {},
   "outputs": [
    {
     "name": "stdout",
     "output_type": "stream",
     "text": [
      "\n",
      "Sentiment Analysis:\n",
      "Polarity1: 0.6, Subjectivity: 0.7000000000000001\n",
      "Polarity2: -0.05, Subjectivity2: 0.4\n"
     ]
    }
   ],
   "source": [
    "print(\"\\nSentiment Analysis:\")\n",
    "print(f\"Polarity1: {blob.sentiment.polarity}, Subjectivity: {blob.sentiment.subjectivity}\")\n",
    "print(f\"Polarity2: {blob2.sentiment.polarity}, Subjectivity2: {blob2.sentiment.subjectivity}\")"
   ]
  },
  {
   "cell_type": "code",
   "execution_count": 32,
   "id": "9938f3f7",
   "metadata": {},
   "outputs": [
    {
     "data": {
      "image/png": "[encoded data removed]",
      "text/plain": [
       "<Figure size 640x480 with 1 Axes>"
      ]
     },
     "metadata": {},
     "output_type": "display_data"
    }
   ],
   "source": [
    "plt.scatter(blob.sentiment.polarity, blob.sentiment.subjectivity)\n",
    "plt.scatter(blob2.sentiment.polarity, blob2.sentiment.subjectivity)\n",
    "plt.show()"
   ]
  },
  {
   "cell_type": "code",
   "execution_count": null,
   "id": "47876161",
   "metadata": {},
   "outputs": [],
   "source": []
  },
  {
   "cell_type": "code",
   "execution_count": 30,
   "id": "ca7846b0",
   "metadata": {},
   "outputs": [
    {
     "name": "stdout",
     "output_type": "stream",
     "text": [
      "Part-of-speech tagging: \n",
      "[('The', 'DT'), ('weather', 'NN'), ('is', 'VBZ'), ('wonderful', 'JJ'), ('today', 'NN'), ('I', 'PRP'), ('love', 'VBP'), ('the', 'DT'), ('smell', 'NN'), ('of', 'IN'), ('fresh', 'JJ'), ('air', 'NN'), ('in', 'IN'), ('the', 'DT'), ('morning', 'NN')]\n",
      "[('The', 'DT'), ('weather', 'NN'), ('is', 'VBZ'), ('ass', 'JJ'), ('today', 'NN'), ('Why', 'WRB'), ('does', 'VBZ'), ('it', 'PRP'), ('have', 'VB'), ('to', 'TO'), ('be', 'VB'), ('raining', 'VBG'), ('all', 'DT'), ('day', 'NN'), ('long', 'RB')]\n",
      "\n",
      "Noun phrase extraction: \n",
      "['fresh air']\n",
      "[]\n"
     ]
    }
   ],
   "source": [
    "# Part of speech-tagging\n",
    "print(\"Part-of-speech tagging: \")\n",
    "print(blob.tags)\n",
    "print(blob2.tags)\n",
    "\n",
    "# Noun phrase extraction\n",
    "print(\"\\nNoun phrase extraction: \")\n",
    "print(blob.noun_phrases)\n",
    "print(blob2.noun_phrases)"
   ]
  }
 ],
 "metadata": {
  "kernelspec": {
   "display_name": "Python 3 (ipykernel)",
   "language": "python",
   "name": "python3"
  },
  "language_info": {
   "codemirror_mode": {
    "name": "ipython",
    "version": 3
   },
   "file_extension": ".py",
   "mimetype": "text/x-python",
   "name": "python",
   "nbconvert_exporter": "python",
   "pygments_lexer": "ipython3",
   "version": "3.10.11"
  }
 },
 "nbformat": 4,
 "nbformat_minor": 5
}

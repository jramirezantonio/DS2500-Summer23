{
 "cells": [
  {
   "cell_type": "markdown",
   "id": "5eebf196",
   "metadata": {},
   "source": [
    "# Cosine Similarity and Recommendation Engine\n",
    "### Josue Antonio\n",
    "### DS2500: Intermediate Programming with Data\n",
    "\n",
    "Implement a recommendation algorithm that makes interest suggestions for each user A, B, C, .... Your algorithm should use cosine similarity to identify the most similar user who has one or more suggestions to offer.  You may use any code we developed in class.  "
   ]
  },
  {
   "cell_type": "code",
   "execution_count": 1,
   "id": "f741c483",
   "metadata": {},
   "outputs": [
    {
     "name": "stdout",
     "output_type": "stream",
     "text": [
      "[1, 2, 3]\n"
     ]
    },
    {
     "data": {
      "text/plain": [
       "set()"
      ]
     },
     "execution_count": 1,
     "metadata": {},
     "output_type": "execute_result"
    }
   ],
   "source": [
    "# Convert a set into a list (if needed)\n",
    "\n",
    "s = {1,2,3}\n",
    "print(list(s))\n",
    "\n",
    "# declare an empty list (if needed)\n",
    "s = set()\n",
    "s"
   ]
  },
  {
   "cell_type": "code",
   "execution_count": 2,
   "id": "5d54ecab",
   "metadata": {},
   "outputs": [],
   "source": [
    "# A dictionary of users and their SET of interests\n",
    "\n",
    "data = {\n",
    "    \"A\": {\"Hadoop\", \"Big Data\", \"HBase\", \"Java\", \"Spark\", \"Storm\", \"Cassandra\"},\n",
    "    \"B\": {\"NoSQL\", \"MongoDB\", \"Cassandra\", \"HBase\", \"Postgres\"},\n",
    "    \"C\": {\"Python\", \"scikit-learn\", \"scipy\", \"numpy\", \"statsmodels\", \"pandas\"},\n",
    "    \"D\": {\"R\", \"Python\", \"statistics\", \"regression\", \"probability\"},\n",
    "    \"E\": {\"machine learning\", \"regression\", \"decision trees\", \"libsvm\"},\n",
    "    \"F\": {\"Python\", \"R\", \"Java\", \"C++\", \"Haskell\", \"programming languages\"},\n",
    "    \"G\": {\"statistics\", \"probability\", \"mathematics\", \"theory\"},\n",
    "    \"H\": {\"machine learning\", \"scikit-learn\", \"Mahout\", \"neural networks\"},\n",
    "    \"I\": {\"neural networks\", \"deep learning\", \"Big Data\", \"artificial intelligence\"},\n",
    "    \"J\": {\"Hadoop\", \"Java\", \"MapReduce\", \"Big Data\"},\n",
    "    \"K\": {\"statistics\", \"R\", \"statsmodels\"},\n",
    "    \"L\": {\"C++\", \"deep learning\", \"artificial intelligence\", \"probability\"},\n",
    "    \"M\": {\"pandas\", \"R\", \"Python\"},\n",
    "    \"N\": {\"databases\", \"HBase\", \"Postgres\", \"MySQL\", \"MongoDB\"},\n",
    "    \"O\": {\"libsvm\", \"regression\", \"support vector machines\"}\n",
    "}"
   ]
  },
  {
   "cell_type": "code",
   "execution_count": 3,
   "id": "a23fb5b9",
   "metadata": {},
   "outputs": [],
   "source": [
    "# Convert a list of words to a word vector (code from class)\n",
    "\n",
    "def vectorize(words, unique):\n",
    "    return [1 if word in words else 0\n",
    "              for word in unique]\n",
    "\n",
    "# Vector functions\n",
    "\n",
    "def mag(v):\n",
    "    \"\"\" magnitude of a vector \"\"\"\n",
    "    return sum([i **2 for i in v]) ** 0.5\n",
    "\n",
    "\n",
    "def dot(u,v):\n",
    "    \"\"\" dot product of two vectors \"\"\"\n",
    "    return sum([ui * vi for ui, vi in zip(u,v)])\n",
    "    \n",
    "\n",
    "def cosine_similarity(u, v):\n",
    "    cos_theta = dot(u,v)/(mag(u) * mag(v))\n",
    "    return cos_theta"
   ]
  },
  {
   "cell_type": "code",
   "execution_count": 16,
   "id": "dd31ee6e",
   "metadata": {},
   "outputs": [
    {
     "name": "stdout",
     "output_type": "stream",
     "text": [
      "A {'MapReduce'}\n",
      "B {'databases', 'MySQL'}\n",
      "C {'R'}\n",
      "D {'statsmodels'}\n",
      "E {'support vector machines'}\n",
      "F {'pandas'}\n",
      "G {'regression', 'R', 'Python'}\n",
      "H {'regression', 'decision trees', 'libsvm'}\n",
      "I {'C++', 'probability'}\n",
      "J {'Cassandra', 'Spark', 'Storm', 'HBase'}\n",
      "K {'regression', 'probability', 'Python'}\n",
      "L {'neural networks', 'Big Data'}\n",
      "M {'regression', 'statistics', 'probability'}\n",
      "N {'Cassandra', 'NoSQL'}\n",
      "O {'decision trees', 'machine learning'}\n"
     ]
    }
   ],
   "source": [
    "# Exercise: Print recommendations for every user in data\n",
    "\n",
    "def recommend(data):\n",
    "    \n",
    "    # find unique interests across all users\n",
    "    unique = set([item for subdic in data.values() for item in subdic])\n",
    "    \n",
    "    # For each user print suggestions\n",
    "    for user in data: \n",
    "        best_suggestions = {}\n",
    "        most_sim = 0\n",
    "        for other_user in data:\n",
    "            if other_user != user and len(set(data[other_user]) - set(data[user])) > 0:\n",
    "                cos_sim = cosine_similarity(vectorize(data[user], unique), vectorize(data[other_user], unique))\n",
    "                if most_sim < cos_sim and cos_sim < 1:\n",
    "                    most_sim = cos_sim\n",
    "                    best_suggestions = set(data[other_user]) - set(data[user]) \n",
    "        print(user, best_suggestions)\n",
    "        \n",
    "recommend(data)"
   ]
  },
  {
   "cell_type": "code",
   "execution_count": null,
   "id": "fa047988",
   "metadata": {},
   "outputs": [],
   "source": []
  }
 ],
 "metadata": {
  "kernelspec": {
   "display_name": "Python 3 (ipykernel)",
   "language": "python",
   "name": "python3"
  },
  "language_info": {
   "codemirror_mode": {
    "name": "ipython",
    "version": 3
   },
   "file_extension": ".py",
   "mimetype": "text/x-python",
   "name": "python",
   "nbconvert_exporter": "python",
   "pygments_lexer": "ipython3",
   "version": "3.10.11"
  }
 },
 "nbformat": 4,
 "nbformat_minor": 5
}

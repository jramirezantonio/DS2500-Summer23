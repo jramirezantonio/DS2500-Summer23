{
 "cells": [
  {
   "cell_type": "code",
   "execution_count": 33,
   "id": "4fa177ab",
   "metadata": {},
   "outputs": [
    {
     "data": {
      "text/plain": [
       "7"
      ]
     },
     "execution_count": 33,
     "metadata": {},
     "output_type": "execute_result"
    }
   ],
   "source": [
    "# Lists\n",
    "# order matters\n",
    "# different data types\n",
    "# repeats allowed\n",
    "# indexing starts at 0\n",
    "\n",
    "L = [1, 2, 3, True, ['a', 'b', 'c'], \"Hello\", (3, 4)]\n",
    "len(L)"
   ]
  },
  {
   "cell_type": "code",
   "execution_count": 34,
   "id": "ff1717da",
   "metadata": {},
   "outputs": [
    {
     "data": {
      "text/plain": [
       "[1, 2, 3, True, ['a', 'b', 'c'], 'Hello', (3, 4), 99]"
      ]
     },
     "execution_count": 34,
     "metadata": {},
     "output_type": "execute_result"
    }
   ],
   "source": [
    "L.append(99)\n",
    "L"
   ]
  },
  {
   "cell_type": "code",
   "execution_count": 35,
   "id": "cd8b5bce",
   "metadata": {
    "scrolled": true
   },
   "outputs": [
    {
     "data": {
      "text/plain": [
       "[2, 3, True]"
      ]
     },
     "execution_count": 35,
     "metadata": {},
     "output_type": "execute_result"
    }
   ],
   "source": [
    "new_list = L[1:4]\n",
    "new_list"
   ]
  },
  {
   "cell_type": "code",
   "execution_count": 36,
   "id": "91946808",
   "metadata": {},
   "outputs": [
    {
     "data": {
      "text/plain": [
       "[1, 2, 3, True, ['a', 'b', 'c'], 'Hello', (3, 4), 99]"
      ]
     },
     "execution_count": 36,
     "metadata": {},
     "output_type": "execute_result"
    }
   ],
   "source": [
    "L"
   ]
  },
  {
   "cell_type": "code",
   "execution_count": 37,
   "id": "0f4c8d0d",
   "metadata": {},
   "outputs": [
    {
     "data": {
      "text/plain": [
       "[1, 2, 3, True, ['a', 'b', 'c'], 'Hello', (3, 4), 99, 5, 6, 7]"
      ]
     },
     "execution_count": 37,
     "metadata": {},
     "output_type": "execute_result"
    }
   ],
   "source": [
    "# operator overloading - concatenating\n",
    "# this creates new list and doesn't modify L\n",
    "L + [5, 6, 7]\n"
   ]
  },
  {
   "cell_type": "code",
   "execution_count": 38,
   "id": "435e2298",
   "metadata": {},
   "outputs": [],
   "source": [
    "# append doesn't return anything\n",
    "#L.append([5, 6, 7])"
   ]
  },
  {
   "cell_type": "code",
   "execution_count": 39,
   "id": "be62c772",
   "metadata": {},
   "outputs": [
    {
     "data": {
      "text/plain": [
       "(3, 4)"
      ]
     },
     "execution_count": 39,
     "metadata": {},
     "output_type": "execute_result"
    }
   ],
   "source": [
    "# Negative indexing\n",
    "L[-1] # last element\n",
    "L[-2] # 2nd to last element"
   ]
  },
  {
   "cell_type": "code",
   "execution_count": 40,
   "id": "09ae8fa5",
   "metadata": {},
   "outputs": [
    {
     "data": {
      "text/plain": [
       "[1, 2, 3]"
      ]
     },
     "execution_count": 40,
     "metadata": {},
     "output_type": "execute_result"
    }
   ],
   "source": [
    "# more slicing\n",
    "# 1st 3 elements\n",
    "L[:3]"
   ]
  },
  {
   "cell_type": "code",
   "execution_count": 41,
   "id": "c8a0dec4",
   "metadata": {},
   "outputs": [
    {
     "data": {
      "text/plain": [
       "[True, ['a', 'b', 'c'], 'Hello', (3, 4), 99]"
      ]
     },
     "execution_count": 41,
     "metadata": {},
     "output_type": "execute_result"
    }
   ],
   "source": [
    "L[3:] # every elt after index 3 "
   ]
  },
  {
   "cell_type": "code",
   "execution_count": 42,
   "id": "15e33563",
   "metadata": {},
   "outputs": [
    {
     "data": {
      "text/plain": [
       "[1, 2, 3, True, ['a', 'b', 'c'], 'Hello', (3, 4), 99]"
      ]
     },
     "execution_count": 42,
     "metadata": {},
     "output_type": "execute_result"
    }
   ],
   "source": [
    "L[:] # every element"
   ]
  },
  {
   "cell_type": "code",
   "execution_count": 43,
   "id": "9d02bc2e",
   "metadata": {},
   "outputs": [],
   "source": [
    "# Not the right way to copy a list!! :\n",
    "# shallow copy\n",
    "M = L"
   ]
  },
  {
   "cell_type": "code",
   "execution_count": 44,
   "id": "cad05797",
   "metadata": {},
   "outputs": [
    {
     "data": {
      "text/plain": [
       "[21, 2, 3, True, ['a', 'b', 'c'], 'Hello', (3, 4), 99]"
      ]
     },
     "execution_count": 44,
     "metadata": {},
     "output_type": "execute_result"
    }
   ],
   "source": [
    "# Correct way to copy a list, leaving the original list unchanged\n",
    "M = L[:]\n",
    "M[0] = 21\n",
    "M"
   ]
  },
  {
   "cell_type": "code",
   "execution_count": 45,
   "id": "3344dbac",
   "metadata": {},
   "outputs": [
    {
     "data": {
      "text/plain": [
       "[1, 2, 3, True, ['a', 'b', 'c'], 'Hello', (3, 4), 99]"
      ]
     },
     "execution_count": 45,
     "metadata": {},
     "output_type": "execute_result"
    }
   ],
   "source": [
    "L"
   ]
  },
  {
   "cell_type": "code",
   "execution_count": 46,
   "id": "2a1469b4",
   "metadata": {},
   "outputs": [
    {
     "data": {
      "text/plain": [
       "[0, 1, 4, 9, 16, 25, 36, 49, 64, 81]"
      ]
     },
     "execution_count": 46,
     "metadata": {},
     "output_type": "execute_result"
    }
   ],
   "source": [
    "# list comprehensions\n",
    "[n ** 2 for n in range(10)]"
   ]
  },
  {
   "cell_type": "code",
   "execution_count": 48,
   "id": "a7a3831c",
   "metadata": {},
   "outputs": [
    {
     "data": {
      "text/plain": [
       "[16, 100]"
      ]
     },
     "execution_count": 48,
     "metadata": {},
     "output_type": "execute_result"
    }
   ],
   "source": [
    "L = [4, 7, 10]\n",
    "L_squared = [x ** 2 for x in L if x % 2 == 0]\n",
    "L_squared"
   ]
  },
  {
   "cell_type": "code",
   "execution_count": 49,
   "id": "644a855c",
   "metadata": {},
   "outputs": [
    {
     "data": {
      "text/plain": [
       "True"
      ]
     },
     "execution_count": 49,
     "metadata": {},
     "output_type": "execute_result"
    }
   ],
   "source": [
    "7 in L"
   ]
  },
  {
   "cell_type": "code",
   "execution_count": 50,
   "id": "d3b37774",
   "metadata": {},
   "outputs": [
    {
     "data": {
      "text/plain": [
       "False"
      ]
     },
     "execution_count": 50,
     "metadata": {},
     "output_type": "execute_result"
    }
   ],
   "source": [
    "8 in L"
   ]
  },
  {
   "cell_type": "code",
   "execution_count": 54,
   "id": "4177a9a7",
   "metadata": {},
   "outputs": [
    {
     "data": {
      "text/plain": [
       "{'a': 1, 'b': 2, 'z': 99}"
      ]
     },
     "execution_count": 54,
     "metadata": {},
     "output_type": "execute_result"
    }
   ],
   "source": [
    "# Dictionaries: keys --> values\n",
    "# order doesn't matter\n",
    "# value lookup is by key\n",
    "# keys must be IMMUTABLE (can't be changed!) AND unique\n",
    "# values can be mutable objects and they don't have to be unique\n",
    "# different data types\n",
    "\n",
    "D = {}\n",
    "D['a'] = 1\n",
    "D['b'] = 2\n",
    "D['z'] = 99\n",
    "D"
   ]
  },
  {
   "cell_type": "code",
   "execution_count": 55,
   "id": "c876c9ea",
   "metadata": {},
   "outputs": [
    {
     "data": {
      "text/plain": [
       "{(44, -78): 'Northeastern'}"
      ]
     },
     "execution_count": 55,
     "metadata": {},
     "output_type": "execute_result"
    }
   ],
   "source": [
    "# Tuples\n",
    "# order matters!\n",
    "# you can have repeats\n",
    "# tuples are immutable (okay for keys)\n",
    "\n",
    "locations = {}\n",
    "gps = (44, -78)\n",
    "locations[gps] = \"Northeastern\"\n",
    "locations"
   ]
  },
  {
   "cell_type": "code",
   "execution_count": 56,
   "id": "79b423c0",
   "metadata": {
    "scrolled": true
   },
   "outputs": [
    {
     "name": "stdout",
     "output_type": "stream",
     "text": [
      "5 6 11\n"
     ]
    }
   ],
   "source": [
    "# double assignment\n",
    "T = (5, 6 ,7)\n",
    "x, y, z = T\n",
    "print(x, y, x + y)"
   ]
  },
  {
   "cell_type": "code",
   "execution_count": 57,
   "id": "45f37cc8",
   "metadata": {},
   "outputs": [],
   "source": [
    "def f(x):\n",
    "    return x ** 2, x ** 3, x ** 4"
   ]
  },
  {
   "cell_type": "code",
   "execution_count": 59,
   "id": "65075dec",
   "metadata": {},
   "outputs": [
    {
     "data": {
      "text/plain": [
       "(8, 16)"
      ]
     },
     "execution_count": 59,
     "metadata": {},
     "output_type": "execute_result"
    }
   ],
   "source": [
    "T = f(2)\n",
    "T[0]\n",
    "T[1:] # You can do slicing with tuples"
   ]
  },
  {
   "cell_type": "code",
   "execution_count": 66,
   "id": "69c636b0",
   "metadata": {},
   "outputs": [
    {
     "data": {
      "text/plain": [
       "True"
      ]
     },
     "execution_count": 66,
     "metadata": {},
     "output_type": "execute_result"
    }
   ],
   "source": [
    "# Sets\n",
    "# Sets are collections of keys, dictionaries without values\n",
    "# values must be unique!\n",
    "# no order!\n",
    "\n",
    "S = {1, 2, 3}\n",
    "D = {1: None, 2: None, 3: None} # sets are dictionaries with no values\n",
    "type(S)\n",
    "\n",
    "3 in S # fast operation (\"3\" is hased to find the location where the value lives)\n"
   ]
  },
  {
   "cell_type": "code",
   "execution_count": 70,
   "id": "4aa90e6a",
   "metadata": {},
   "outputs": [
    {
     "data": {
      "text/plain": [
       "{1, 2, 3, 4, 5}"
      ]
     },
     "execution_count": 70,
     "metadata": {},
     "output_type": "execute_result"
    }
   ],
   "source": [
    "T = {3, 4, 5}\n",
    "S & T # intersection operation, or use S.intersection(T)\n",
    "S | T # Union operation, or use S.union(T)"
   ]
  },
  {
   "cell_type": "code",
   "execution_count": 71,
   "id": "86d7fa93",
   "metadata": {},
   "outputs": [
    {
     "data": {
      "text/plain": [
       "{1, 2}"
      ]
     },
     "execution_count": 71,
     "metadata": {},
     "output_type": "execute_result"
    }
   ],
   "source": [
    "# elements in S not in T\n",
    "S - T"
   ]
  },
  {
   "cell_type": "code",
   "execution_count": 72,
   "id": "dcddd392",
   "metadata": {},
   "outputs": [
    {
     "data": {
      "text/plain": [
       "{4, 5}"
      ]
     },
     "execution_count": 72,
     "metadata": {},
     "output_type": "execute_result"
    }
   ],
   "source": [
    "# elements in T not in S\n",
    "T - S"
   ]
  },
  {
   "cell_type": "code",
   "execution_count": 73,
   "id": "a3f055de",
   "metadata": {},
   "outputs": [
    {
     "data": {
      "text/plain": [
       "{1, 2, 3, 4, 5}"
      ]
     },
     "execution_count": 73,
     "metadata": {},
     "output_type": "execute_result"
    }
   ],
   "source": [
    "#S[0] # can't do this for sets\n",
    "Z = S | T\n",
    "Z"
   ]
  },
  {
   "cell_type": "code",
   "execution_count": 74,
   "id": "59705aec",
   "metadata": {},
   "outputs": [
    {
     "data": {
      "text/plain": [
       "{2, 4}"
      ]
     },
     "execution_count": 74,
     "metadata": {},
     "output_type": "execute_result"
    }
   ],
   "source": [
    "{x for x in Z if x % 2 == 0}"
   ]
  },
  {
   "cell_type": "code",
   "execution_count": null,
   "id": "342973d1",
   "metadata": {},
   "outputs": [],
   "source": [
    "2 ^ 10\n",
    "# 0010 4-bit binary representation of 2\n",
    "# 1010 4-bit binary representation of 10\n",
    "# 1000 4-bit binary representation of 8 \n",
    "# because \"^\" is x-or operation on python"
   ]
  }
 ],
 "metadata": {
  "kernelspec": {
   "display_name": "Python 3 (ipykernel)",
   "language": "python",
   "name": "python3"
  },
  "language_info": {
   "codemirror_mode": {
    "name": "ipython",
    "version": 3
   },
   "file_extension": ".py",
   "mimetype": "text/x-python",
   "name": "python",
   "nbconvert_exporter": "python",
   "pygments_lexer": "ipython3",
   "version": "3.10.11"
  }
 },
 "nbformat": 4,
 "nbformat_minor": 5
}

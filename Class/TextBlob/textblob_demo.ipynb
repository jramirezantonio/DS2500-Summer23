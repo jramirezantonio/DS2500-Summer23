{
 "cells": [
  {
   "cell_type": "code",
   "execution_count": null,
   "id": "a58dccd3",
   "metadata": {},
   "outputs": [],
   "source": [
    "# textblob library"
   ]
  },
  {
   "cell_type": "code",
   "execution_count": 2,
   "id": "70765b6b",
   "metadata": {},
   "outputs": [],
   "source": [
    "from textblob import TextBlob\n",
    "import nltk"
   ]
  },
  {
   "cell_type": "code",
   "execution_count": 3,
   "id": "cb1b584a",
   "metadata": {},
   "outputs": [],
   "source": [
    "# Create some text\n",
    "text = \"The weather is wonderful today. I love the smell of fresh air in the morning.\""
   ]
  },
  {
   "cell_type": "code",
   "execution_count": 5,
   "id": "5f5abfa1",
   "metadata": {},
   "outputs": [],
   "source": [
    "# Create a text blob object\n",
    "blob = TextBlob(text)"
   ]
  },
  {
   "cell_type": "code",
   "execution_count": 6,
   "id": "886fd9ec",
   "metadata": {},
   "outputs": [
    {
     "name": "stdout",
     "output_type": "stream",
     "text": [
      "\n",
      "Sentiment Analysis:\n",
      "Polarity: 0.6, Subjectivity: 0.7000000000000001\n"
     ]
    }
   ],
   "source": [
    "print(\"\\nSentiment Analysis:\")\n",
    "print(f\"Polarity: {blob.sentiment.polarity}, Subjectivity: {blob.sentiment.subjectivity}\")"
   ]
  },
  {
   "cell_type": "code",
   "execution_count": 8,
   "id": "64c4376b",
   "metadata": {},
   "outputs": [
    {
     "name": "stdout",
     "output_type": "stream",
     "text": [
      "Part-of-speech tagging: \n",
      "[('The', 'DT'), ('weather', 'NN'), ('is', 'VBZ'), ('wonderful', 'JJ'), ('today', 'NN'), ('I', 'PRP'), ('love', 'VBP'), ('the', 'DT'), ('smell', 'NN'), ('of', 'IN'), ('fresh', 'JJ'), ('air', 'NN'), ('in', 'IN'), ('the', 'DT'), ('morning', 'NN')]\n",
      "\n",
      "Noun phrase extraction: \n",
      "['fresh air']\n"
     ]
    }
   ],
   "source": [
    "# Part of speech-tagging\n",
    "print(\"Part-of-speech tagging: \")\n",
    "print(blob.tags)\n",
    "\n",
    "# Noun phrase extraction\n",
    "print(\"\\nNoun phrase extraction: \")\n",
    "print(blob.noun_phrases)"
   ]
  }
 ],
 "metadata": {
  "kernelspec": {
   "display_name": "Python 3 (ipykernel)",
   "language": "python",
   "name": "python3"
  },
  "language_info": {
   "codemirror_mode": {
    "name": "ipython",
    "version": 3
   },
   "file_extension": ".py",
   "mimetype": "text/x-python",
   "name": "python",
   "nbconvert_exporter": "python",
   "pygments_lexer": "ipython3",
   "version": "3.10.11"
  }
 },
 "nbformat": 4,
 "nbformat_minor": 5
}
